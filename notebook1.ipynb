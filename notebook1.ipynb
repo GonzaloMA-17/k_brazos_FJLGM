{
  "cells": [
    {
      "cell_type": "markdown",
      "metadata": {
        "id": "view-in-github",
        "colab_type": "text"
      },
      "source": [
        "<a href=\"https://colab.research.google.com/github/GonzaloMA-17/k_brazos_FJLGM/blob/main/notebook1.ipynb\" target=\"_parent\"><img src=\"https://colab.research.google.com/assets/colab-badge.svg\" alt=\"Open In Colab\"/></a>"
      ]
    },
    {
      "cell_type": "markdown",
      "metadata": {
        "id": "cikMoIxi2Sh2"
      },
      "source": [
        "# Estudio comparativo de algoritmos en un problema de bandido de k-brazos"
      ]
    },
    {
      "cell_type": "markdown",
      "source": [
        "## Preparación del entorno"
      ],
      "metadata": {
        "id": "gxj2Pzsb2yFO"
      }
    },
    {
      "cell_type": "markdown",
      "source": [
        "**Clonación del repositorio:**\n",
        "\n",
        "Para poder acceder a todas las clases y métodos necesarios."
      ],
      "metadata": {
        "id": "TxtOOqcn3PCw"
      }
    },
    {
      "cell_type": "code",
      "source": [
        "!git clone https://github.com/GonzaloMA-17/k_brazos_FJLGM.git"
      ],
      "metadata": {
        "id": "nZi6fXrC24ls",
        "outputId": "126905af-38c3-4fc5-d5b9-846bf764ecc4",
        "colab": {
          "base_uri": "https://localhost:8080/",
          "height": 0
        }
      },
      "execution_count": 1,
      "outputs": [
        {
          "output_type": "stream",
          "name": "stdout",
          "text": [
            "Cloning into 'k_brazos_FJLGM'...\n",
            "remote: Enumerating objects: 55, done.\u001b[K\n",
            "remote: Counting objects: 100% (55/55), done.\u001b[K\n",
            "remote: Compressing objects: 100% (52/52), done.\u001b[K\n",
            "remote: Total 55 (delta 17), reused 17 (delta 1), pack-reused 0 (from 0)\u001b[K\n",
            "Receiving objects: 100% (55/55), 20.13 KiB | 10.06 MiB/s, done.\n",
            "Resolving deltas: 100% (17/17), done.\n"
          ]
        }
      ]
    },
    {
      "cell_type": "code",
      "source": [
        "%cd k_brazos_FJLGM"
      ],
      "metadata": {
        "id": "wCzfsNXI3LCy",
        "outputId": "53c9e28a-4995-4a33-984e-cf185e5f5142",
        "colab": {
          "base_uri": "https://localhost:8080/",
          "height": 0
        }
      },
      "execution_count": 3,
      "outputs": [
        {
          "output_type": "stream",
          "name": "stdout",
          "text": [
            "/content/k_brazos_FJLGM\n"
          ]
        }
      ]
    },
    {
      "cell_type": "markdown",
      "source": [
        "### Librerías"
      ],
      "metadata": {
        "id": "MtmM1A6i3knR"
      }
    },
    {
      "cell_type": "code",
      "execution_count": 5,
      "metadata": {
        "id": "lcdEbXJ32Sh4"
      },
      "outputs": [],
      "source": [
        "import numpy as np\n",
        "from typing import List\n",
        "\n",
        "from src_algorithms import Algorithm, EpsilonGreedy\n",
        "from src_arms import ArmNormal, Bandit\n",
        "from src_plotting import plot_average_rewards, plot_optimal_selections"
      ]
    },
    {
      "cell_type": "markdown",
      "source": [
        "Semilla:"
      ],
      "metadata": {
        "id": "OJURYx8s3vaa"
      }
    },
    {
      "cell_type": "code",
      "execution_count": 6,
      "metadata": {
        "id": "fWBjkO5W2Sh5"
      },
      "outputs": [],
      "source": [
        "seed = 1234"
      ]
    },
    {
      "cell_type": "markdown",
      "source": [
        "Definición del experimento:"
      ],
      "metadata": {
        "id": "pMYZZVtH369b"
      }
    },
    {
      "cell_type": "code",
      "execution_count": 8,
      "metadata": {
        "id": "IyrP1-782Sh5"
      },
      "outputs": [],
      "source": [
        "def run_experiment(bandit: Bandit, algorithms: List[Algorithm], steps: int, runs: int):\n",
        "\n",
        "    optimal_arm = bandit.optimal_arm  # Necesario para calcular el porcentaje de selecciones óptimas.\n",
        "\n",
        "    rewards = np.zeros((len(algorithms), steps)) # Matriz para almacenar las recompensas promedio.\n",
        "\n",
        "    optimal_selections = np.zeros((len(algorithms), steps))  # Matriz para almacenar el porcentaje de selecciones óptimas.\n",
        "\n",
        "    np.random.seed(seed)  # Asegurar reproducibilidad de resultados.\n",
        "\n",
        "    for run in range(runs):\n",
        "        current_bandit = Bandit(arms=bandit.arms)\n",
        "\n",
        "        for algo in algorithms:\n",
        "            algo.reset() # Reiniciar los valores de los algoritmos.\n",
        "\n",
        "        total_rewards_per_algo = np.zeros(len(algorithms)) # Acumulador de recompensas por algoritmo. Necesario para calcular el promedio.\n",
        "\n",
        "        for step in range(steps):\n",
        "            for idx, algo in enumerate(algorithms):\n",
        "                chosen_arm = algo.select_arm() # Seleccionar un brazo según la política del algoritmo.\n",
        "                reward = current_bandit.pull_arm(chosen_arm) # Obtener la recompensa del brazo seleccionado.\n",
        "                algo.update(chosen_arm, reward) # Actualizar el valor estimado del brazo seleccionado.\n",
        "\n",
        "                rewards[idx, step] += reward # Acumular la recompensa obtenida en la matriz rewards para el algoritmo idx en el paso step.\n",
        "                total_rewards_per_algo[idx] += reward # Acumular la recompensa obtenida en total_rewards_per_algo para el algoritmo idx.\n",
        "\n",
        "                #TODO: modificar optimal_selections cuando el brazo elegido se corresponda con el brazo óptimo optimal_arm\n",
        "\n",
        "\n",
        "    rewards /= runs\n",
        "\n",
        "    # TODO: calcular el porcentaje de selecciones óptimas y almacenar en optimal_selections\n",
        "\n",
        "    return rewards, optimal_selections\n"
      ]
    }
  ],
  "metadata": {
    "kernelspec": {
      "display_name": ".venv",
      "language": "python",
      "name": "python3"
    },
    "language_info": {
      "name": "python",
      "version": "3.11.9"
    },
    "colab": {
      "provenance": [],
      "include_colab_link": true
    }
  },
  "nbformat": 4,
  "nbformat_minor": 0
}