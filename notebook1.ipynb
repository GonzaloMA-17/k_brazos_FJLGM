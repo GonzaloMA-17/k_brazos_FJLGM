{
  "cells": [
    {
      "cell_type": "markdown",
      "metadata": {
        "colab_type": "text",
        "id": "view-in-github"
      },
      "source": [
        "<a href=\"https://colab.research.google.com/github/GonzaloMA-17/k_brazos_FJLGM/blob/main/notebook1.ipynb\" target=\"_parent\"><img src=\"https://colab.research.google.com/assets/colab-badge.svg\" alt=\"Open In Colab\"/></a>"
      ]
    },
    {
      "cell_type": "markdown",
      "metadata": {
        "id": "cikMoIxi2Sh2"
      },
      "source": [
        "# Estudio comparativo de algoritmos en un problema de bandido de k-brazos"
      ]
    },
    {
      "cell_type": "markdown",
      "metadata": {
        "id": "gxj2Pzsb2yFO"
      },
      "source": [
        "## Preparación del entorno"
      ]
    },
    {
      "cell_type": "markdown",
      "metadata": {
        "id": "TxtOOqcn3PCw"
      },
      "source": [
        "**Clonación del repositorio:**\n",
        "\n",
        "Para poder acceder a todas las clases y métodos necesarios."
      ]
    },
    {
      "cell_type": "code",
      "execution_count": 1,
      "metadata": {
        "colab": {
          "base_uri": "https://localhost:8080/",
          "height": 0
        },
        "id": "nZi6fXrC24ls",
        "outputId": "126905af-38c3-4fc5-d5b9-846bf764ecc4"
      },
      "outputs": [
        {
          "name": "stdout",
          "output_type": "stream",
          "text": [
            "Cloning into 'k_brazos_FJLGM'...\n",
            "remote: Enumerating objects: 55, done.\u001b[K\n",
            "remote: Counting objects: 100% (55/55), done.\u001b[K\n",
            "remote: Compressing objects: 100% (52/52), done.\u001b[K\n",
            "remote: Total 55 (delta 17), reused 17 (delta 1), pack-reused 0 (from 0)\u001b[K\n",
            "Receiving objects: 100% (55/55), 20.13 KiB | 10.06 MiB/s, done.\n",
            "Resolving deltas: 100% (17/17), done.\n"
          ]
        }
      ],
      "source": [
        "!git clone https://github.com/GonzaloMA-17/k_brazos_FJLGM.git"
      ]
    },
    {
      "cell_type": "code",
      "execution_count": 3,
      "metadata": {
        "colab": {
          "base_uri": "https://localhost:8080/",
          "height": 0
        },
        "id": "wCzfsNXI3LCy",
        "outputId": "53c9e28a-4995-4a33-984e-cf185e5f5142"
      },
      "outputs": [
        {
          "name": "stdout",
          "output_type": "stream",
          "text": [
            "/content/k_brazos_FJLGM\n"
          ]
        }
      ],
      "source": [
        "%cd k_brazos_FJLGM"
      ]
    },
    {
      "cell_type": "markdown",
      "metadata": {
        "id": "MtmM1A6i3knR"
      },
      "source": [
        "### Librerías"
      ]
    },
    {
      "cell_type": "code",
      "execution_count": 5,
      "metadata": {
        "id": "lcdEbXJ32Sh4"
      },
      "outputs": [],
      "source": [
        "import numpy as np\n",
        "from typing import List\n",
        "\n",
        "from src_algorithms import Algorithm, EpsilonGreedy\n",
        "from src_arms import ArmNormal, Bandit\n",
        "from src_plotting import plot_average_rewards, plot_optimal_selections"
      ]
    },
    {
      "cell_type": "markdown",
      "metadata": {
        "id": "OJURYx8s3vaa"
      },
      "source": [
        "Semilla:"
      ]
    },
    {
      "cell_type": "code",
      "execution_count": 6,
      "metadata": {
        "id": "fWBjkO5W2Sh5"
      },
      "outputs": [],
      "source": [
        "seed = 1234"
      ]
    },
    {
      "cell_type": "markdown",
      "metadata": {
        "id": "pMYZZVtH369b"
      },
      "source": [
        "**Definición del experimento:**\n",
        "\n",
        "Cada algoritmo se ejecuta en un problema de k-armed bandit durante un número de pasos de tiempo y ejecuciones determinado. Se comparan los resultados de los algoritmos en términos de recompensa promedio.\n",
        "\n",
        "Por ejemplo. Dado un bandido de k-brazos, se ejecutan dos algoritmos epsilon-greedy con diferentes valores de epsilon. Se estudia la evolución de cada política en un número de pasos, por ejemplo, mil pasos. Entonces se repite el experimento un número de veces, por ejemplo, 500 veces. Es decir, se ejecutan 500 veces la evolución de cada algoritmo en 1000 pasos. Para cada paso calculamos el promedio de las recoponensas obtenidas en esas 500 veces."
      ]
    },
    {
      "cell_type": "code",
      "execution_count": 8,
      "metadata": {
        "id": "IyrP1-782Sh5"
      },
      "outputs": [],
      "source": [
        "def run_experiment(bandit: Bandit, algorithms: List[Algorithm], steps: int, runs: int):\n",
        "\n",
        "    optimal_arm = bandit.optimal_arm  # Necesario para calcular el porcentaje de selecciones óptimas.\n",
        "\n",
        "    rewards = np.zeros((len(algorithms), steps)) # Matriz para almacenar las recompensas promedio.\n",
        "\n",
        "    optimal_selections = np.zeros((len(algorithms), steps))  # Matriz para almacenar el porcentaje de selecciones óptimas.\n",
        "\n",
        "    np.random.seed(seed)  # Asegurar reproducibilidad de resultados.\n",
        "\n",
        "    for run in range(runs):\n",
        "        current_bandit = Bandit(arms=bandit.arms)\n",
        "\n",
        "        for algo in algorithms:\n",
        "            algo.reset() # Reiniciar los valores de los algoritmos.\n",
        "\n",
        "        total_rewards_per_algo = np.zeros(len(algorithms)) # Acumulador de recompensas por algoritmo. Necesario para calcular el promedio.\n",
        "\n",
        "        for step in range(steps):\n",
        "            for idx, algo in enumerate(algorithms):\n",
        "                chosen_arm = algo.select_arm() # Seleccionar un brazo según la política del algoritmo.\n",
        "                reward = current_bandit.pull_arm(chosen_arm) # Obtener la recompensa del brazo seleccionado.\n",
        "                algo.update(chosen_arm, reward) # Actualizar el valor estimado del brazo seleccionado.\n",
        "\n",
        "                rewards[idx, step] += reward # Acumular la recompensa obtenida en la matriz rewards para el algoritmo idx en el paso step.\n",
        "                total_rewards_per_algo[idx] += reward # Acumular la recompensa obtenida en total_rewards_per_algo para el algoritmo idx.\n",
        "\n",
        "                #TODO: modificar optimal_selections cuando el brazo elegido se corresponda con el brazo óptimo optimal_arm\n",
        "\n",
        "\n",
        "    rewards /= runs\n",
        "\n",
        "    # TODO: calcular el porcentaje de selecciones óptimas y almacenar en optimal_selections\n",
        "\n",
        "    return rewards, optimal_selections\n"
      ]
    },
    {
      "cell_type": "markdown",
      "metadata": {},
      "source": [
        "**Ejecución del experimento**:\n",
        "\n",
        "Se realiza el experimento usando 10 brazos, cada uno de acuerdo a una distribución gaussina con desviación 1. Se realizan 500 ejecuciones de 1000 pasos cada una. Se contrastan 3 algoritmos epsilon greedy para valores epsilon: 0.0, 0.01, y 0.1."
      ]
    },
    {
      "cell_type": "code",
      "execution_count": null,
      "metadata": {},
      "outputs": [],
      "source": [
        "np.random.seed(seed)  # Fijar la semilla para reproducibilidad\n",
        "\n",
        "k = 10  # Número de brazos\n",
        "steps = 1000  # Número de pasos que se ejecutarán cada algoritmo\n",
        "runs = 500  # Número de ejecuciones\n",
        "\n",
        "# Creación del bandit\n",
        "bandit = Bandit(arms=ArmNormal.generate_arms(k)) # Generar un bandido con k brazos de distribución normal\n",
        "print(bandit)\n",
        "\n",
        "optimal_arm = bandit.optimal_arm\n",
        "print(f\"Optimal arm: {optimal_arm + 1} with expected reward={bandit.get_expected_value(optimal_arm)}\")\n",
        "\n",
        "# Definir los algoritmos a comparar. En este caso son 3 algoritmos epsilon-greedy con diferentes valores de epsilon.\n",
        "algorithms = [EpsilonGreedy(k=k, epsilon=0), EpsilonGreedy(k=k, epsilon=0.01), EpsilonGreedy(k=k, epsilon=0.1)]\n",
        "\n",
        "# Ejecutar el experimento y obtener las recompensas promedio y promedio de las selecciones óptimas\n",
        "rewards, optimal_selections = run_experiment(bandit, algorithms, steps, runs)"
      ]
    },
    {
      "cell_type": "markdown",
      "metadata": {},
      "source": [
        "**Visualización de resultados**:"
      ]
    },
    {
      "cell_type": "code",
      "execution_count": null,
      "metadata": {},
      "outputs": [],
      "source": [
        "# Graficar los resultados\n",
        "plot_average_rewards(steps, rewards, algorithms)\n",
        "# plot_optimal_selections(steps, optimal_selections, algorithms)"
      ]
    },
    {
      "cell_type": "markdown",
      "metadata": {},
      "source": [
        "**Análisis detallado de la imagen**\n",
        "\n",
        "La imagen muestra un gráfico de líneas titulado \"Recompensa Promedio vs Pasos de Tiempo\", donde se analiza el desempeño de diferentes estrategias del algoritmo ε-Greedy en un entorno de multi-armed bandit. En el eje x se representan los pasos de tiempo, mientras que en el eje y se muestra la recompensa promedio obtenida por cada algoritmo.\n",
        "\n",
        "Tres líneas de colores distintos representan diferentes valores de ε en el algoritmo ε-Greedy:\n",
        "\n",
        "- Azul (ε = 0): Representa una estrategia completamente explotadora, es decir, que siempre elige la acción que ha dado la mejor recompensa hasta ahora sin explorar nuevas opciones.\n",
        "- Naranja (ε = 0.01): Representa una estrategia con una pequeña probabilidad del 1% de elegir una acción aleatoria (exploración).\n",
        "- Verde (ε = 0.1): Representa una estrategia con un 10% de probabilidad de explorar acciones aleatorias.\n",
        "\n",
        "**Crecimiento de la recompensa promedio:**\n",
        "\n",
        "La línea verde (ε=0.1) alcanza rápidamente una recompensa promedio alta, lo que indica que la estrategia con mayor exploración aprende más rápido qué brazos del bandit son óptimos.\n",
        "La línea naranja (ε=0.01) también muestra un crecimiento, pero más lento en comparación con ε=0.1.\n",
        "La línea azul (ε=0) se mantiene en un nivel bajo de recompensa, lo que sugiere que no logra encontrar el mejor brazo porque no explora nuevas opciones.\n",
        "\n",
        "**Conclusiones**\n",
        "\n",
        "Hemos estudiado un experimento de toma de decisiones secuenciales, modelado con un Multi-Armed Bandit (MAB). Este problema es fundamental en el aprendizaje por refuerzo y la teoría de decisiones. La idea principal es que un agente debe aprender cuál es la mejor acción (brazo del bandit) a partir de la experiencia acumulada. Para este estudio nos hemos centrado solo en el estudio del algoritmo epsilon-greedy, llegando a las siguientes conclusiones a partir de los resultados obtenidos y la gráfica generada:\n",
        "\n",
        "1. Exploración vs Explotación\n",
        "\n",
        "El algoritmo ε-Greedy equilibra la exploración y la explotación:\n",
        "\n",
        "Explotación (ε=0): Siempre elige la mejor opción conocida, pero si inicialmente se selecciona un brazo subóptimo, nunca descubrirá otras opciones más rentables.\n",
        "Exploración (ε>0): Introduce aleatoriedad en la selección de acciones para descubrir nuevas opciones potencialmente mejores.\n",
        "El gráfico confirma este comportamiento:\n",
        "\n",
        "ε=0.1 (verde) obtiene la mejor recompensa promedio a lo largo del tiempo porque explora lo suficiente como para encontrar rápidamente el mejor brazo.\n",
        "ε=0.01 (naranja) explora menos, por lo que tarda más en converger a una recompensa alta.\n",
        "ε=0 (azul) no explora en absoluto y queda atrapado en una recompensa subóptima.\n",
        "\n",
        "2. Convergencia de los algoritmos\n",
        "\n",
        "Los algoritmos con mayor exploración (ε=0.1) alcanzan una recompensa alta más rápido. Esto se debe a que:\n",
        "\n",
        "Al principio, el algoritmo no tiene información suficiente sobre cuál es el mejor brazo.\n",
        "Con el tiempo, al realizar exploraciones, descubre cuál es el mejor brazo y empieza a explotarlo más.\n",
        "Un balance entre exploración y explotación es clave para maximizar la recompensa a largo plazo.\n",
        "\n",
        "3. Aplicaciones y conclusiones\n",
        "\n",
        "En problemas de toma de decisiones (ejemplo: recomendaciones, optimización de anuncios, medicina personalizada), una estrategia de exploración moderada como ε=0.1 es más efectiva para encontrar la mejor opción rápidamente.\n",
        "La falta de exploración (ε=0) lleva a un desempeño deficiente, ya que el agente puede quedarse atrapado en una elección subóptima.\n",
        "En conclusión, el gráfico muestra cómo un nivel adecuado de exploración mejora significativamente el rendimiento del algoritmo en un entorno de aprendizaje por refuerzo. 🚀"
      ]
    }
  ],
  "metadata": {
    "colab": {
      "include_colab_link": true,
      "provenance": []
    },
    "kernelspec": {
      "display_name": ".venv",
      "language": "python",
      "name": "python3"
    },
    "language_info": {
      "name": "python",
      "version": "3.11.9"
    }
  },
  "nbformat": 4,
  "nbformat_minor": 0
}
