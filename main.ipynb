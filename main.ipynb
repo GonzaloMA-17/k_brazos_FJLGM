{
  "cells": [
    {
      "cell_type": "markdown",
      "metadata": {
        "id": "view-in-github",
        "colab_type": "text"
      },
      "source": [
        "<a href=\"https://colab.research.google.com/github/GonzaloMA-17/k_brazos_FJLGM/blob/main/main.ipynb\" target=\"_parent\"><img src=\"https://colab.research.google.com/assets/colab-badge.svg\" alt=\"Open In Colab\"/></a>"
      ]
    },
    {
      "cell_type": "markdown",
      "metadata": {
        "id": "jiXiWxRoG0dP"
      },
      "source": [
        "**Asignatura**: Extensiones de Machine Learning, 2024/2025\n",
        "\n",
        "**Alumnos**:<br>\n",
        "- Gonzalo Marcos Andrés (gonzalo.marcosa@um.es)\n",
        "- Francisco José López Fernández (franciscojose.lopezf@um.es)\n",
        "\n",
        "**Máster de Inteligencia Artificial**\n",
        "\n",
        "| **Facultad de Informática** | **Universidad de Murcia** |\n",
        "|-----------------------------|---------------------------|\n",
        "| ![](https://www.um.es/image/layout_set_logo?img_id=175281&t=1726728636242) | ![](https://www.um.es/o/um-lr-principal-um-home-theme/images/logo-um.png) |"
      ]
    },
    {
      "cell_type": "markdown",
      "metadata": {
        "id": "YL35L-n_N9mF"
      },
      "source": [
        "# Notebook principal para la práctica 1: Bandido de k-brazos"
      ]
    },
    {
      "cell_type": "markdown",
      "metadata": {
        "id": "eg_xQLJCOQmE"
      },
      "source": [
        "## Conexión al repositorio de gitHub en collab:"
      ]
    },
    {
      "cell_type": "code",
      "execution_count": 6,
      "metadata": {
        "colab": {
          "base_uri": "https://localhost:8080/"
        },
        "id": "MA9CE0wdd1FY",
        "outputId": "89583bcd-645b-469f-b132-4f5b44679d2b"
      },
      "outputs": [
        {
          "output_type": "stream",
          "name": "stdout",
          "text": [
            "Cloning into 'k_brazos_FJLGM'...\n",
            "remote: Enumerating objects: 263, done.\u001b[K\n",
            "remote: Counting objects: 100% (263/263), done.\u001b[K\n",
            "remote: Compressing objects: 100% (198/198), done.\u001b[K\n",
            "remote: Total 263 (delta 134), reused 148 (delta 63), pack-reused 0 (from 0)\u001b[K\n",
            "Receiving objects: 100% (263/263), 11.22 MiB | 18.84 MiB/s, done.\n",
            "Resolving deltas: 100% (134/134), done.\n"
          ]
        }
      ],
      "source": [
        "!git clone https://github.com/GonzaloMA-17/k_brazos_FJLGM.git"
      ]
    },
    {
      "cell_type": "code",
      "execution_count": 7,
      "metadata": {
        "colab": {
          "base_uri": "https://localhost:8080/"
        },
        "id": "vX0KU91xfrwU",
        "outputId": "5691032c-0497-4ff0-9347-af3351722577"
      },
      "outputs": [
        {
          "output_type": "stream",
          "name": "stdout",
          "text": [
            "/content/k_brazos_FJLGM/k_brazos_FJLGM\n"
          ]
        }
      ],
      "source": [
        "%cd k_brazos_FJLGM"
      ]
    },
    {
      "cell_type": "markdown",
      "metadata": {
        "id": "ZcaapxZ6Oc8v"
      },
      "source": [
        "## Librerías del entorno:\n"
      ]
    },
    {
      "cell_type": "code",
      "execution_count": 8,
      "metadata": {
        "colab": {
          "base_uri": "https://localhost:8080/"
        },
        "id": "u1g-hw0ugl9m",
        "outputId": "6a129c32-dad7-44a1-de67-96520e783234"
      },
      "outputs": [
        {
          "output_type": "stream",
          "name": "stdout",
          "text": [
            "['/content', '/env/python', '/usr/lib/python311.zip', '/usr/lib/python3.11', '/usr/lib/python3.11/lib-dynload', '', '/usr/local/lib/python3.11/dist-packages', '/usr/lib/python3/dist-packages', '/usr/local/lib/python3.11/dist-packages/IPython/extensions', '/root/.ipython', '/content/k_brazos_FJLGM', '/content/k_brazos_FJLGM']\n"
          ]
        }
      ],
      "source": [
        "import sys\n",
        "sys.path.append('/content/k_brazos_FJLGM')\n",
        "\n",
        "print(sys.path)"
      ]
    },
    {
      "cell_type": "markdown",
      "metadata": {
        "id": "xUsrfGlymxO1"
      },
      "source": [
        "### Enlaces a los notebooks de trabajo"
      ]
    },
    {
      "cell_type": "code",
      "execution_count": 9,
      "metadata": {
        "colab": {
          "base_uri": "https://localhost:8080/"
        },
        "id": "NXCUcXg1m03z",
        "outputId": "0f4f1f31-06c3-4fcc-b7b8-e6081ab8ac11"
      },
      "outputs": [
        {
          "output_type": "stream",
          "name": "stdout",
          "text": [
            "GitHub Link al notebook 1: https://github.com/GonzaloMA-17/k_brazos_FJLGM/blob/main/notebook1_e_greedy.ipynb\n",
            "GitHub Link al notebook 2: https://github.com/GonzaloMA-17/k_brazos_FJLGM/blob/main/notebook2_e_greedy.ipynb\n",
            "GitHub Link al notebook 3: https://github.com/GonzaloMA-17/k_brazos_FJLGM/blob/main/notebook3_ucb_bernoulli.ipynb\n",
            "GitHub Link al notebook 4: https://github.com/GonzaloMA-17/k_brazos_FJLGM/blob/main/notebook3_ucb_binomial.ipynb\n",
            "GitHub Link al notebook 5: https://github.com/GonzaloMA-17/k_brazos_FJLGM/blob/main/notebook3_ucb_gaussiana.ipynb\n",
            "GitHub Link al notebook 6: https://github.com/GonzaloMA-17/k_brazos_FJLGM/blob/main/notebook4_gradient_bernoulli.ipynb\n",
            "GitHub Link al notebook 7: https://github.com/GonzaloMA-17/k_brazos_FJLGM/blob/main/notebook4_gradient_binomial.ipynb\n",
            "GitHub Link al notebook 8: https://github.com/GonzaloMA-17/k_brazos_FJLGM/blob/main/notebook4_gradient_gaussiana.ipynb\n"
          ]
        }
      ],
      "source": [
        "# prompt: debo generar un enlace para abrir el notebook1.ipynb en collab\n",
        "\n",
        "# Assuming your notebook is in a public repository:\n",
        "github_repo_urls = [\"https://github.com/GonzaloMA-17/k_brazos_FJLGM/blob/main/notebook1_e_greedy.ipynb\",\n",
        "                    \"https://github.com/GonzaloMA-17/k_brazos_FJLGM/blob/main/notebook2_e_greedy.ipynb\",\n",
        "                    \"https://github.com/GonzaloMA-17/k_brazos_FJLGM/blob/main/notebook3_ucb_bernoulli.ipynb\",\n",
        "                    \"https://github.com/GonzaloMA-17/k_brazos_FJLGM/blob/main/notebook3_ucb_binomial.ipynb\",\n",
        "                    \"https://github.com/GonzaloMA-17/k_brazos_FJLGM/blob/main/notebook3_ucb_gaussiana.ipynb\",\n",
        "                    \"https://github.com/GonzaloMA-17/k_brazos_FJLGM/blob/main/notebook4_gradient_bernoulli.ipynb\",\n",
        "                    \"https://github.com/GonzaloMA-17/k_brazos_FJLGM/blob/main/notebook4_gradient_binomial.ipynb\",\n",
        "                    \"https://github.com/GonzaloMA-17/k_brazos_FJLGM/blob/main/notebook4_gradient_gaussiana.ipynb\"\n",
        "                    ]\n",
        "\n",
        "for i in range(len(github_repo_urls)):\n",
        "\n",
        "    print(f\"GitHub Link al notebook {i+1}: {github_repo_urls[i]}\")\n"
      ]
    }
  ],
  "metadata": {
    "colab": {
      "provenance": [],
      "include_colab_link": true
    },
    "kernelspec": {
      "display_name": ".venv",
      "language": "python",
      "name": "python3"
    },
    "language_info": {
      "codemirror_mode": {
        "name": "ipython",
        "version": 3
      },
      "file_extension": ".py",
      "mimetype": "text/x-python",
      "name": "python",
      "nbconvert_exporter": "python",
      "pygments_lexer": "ipython3",
      "version": "3.11.9"
    }
  },
  "nbformat": 4,
  "nbformat_minor": 0
}