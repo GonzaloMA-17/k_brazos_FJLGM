{
  "nbformat": 4,
  "nbformat_minor": 0,
  "metadata": {
    "colab": {
      "provenance": [],
      "include_colab_link": true
    },
    "kernelspec": {
      "name": "python3",
      "display_name": "Python 3"
    },
    "language_info": {
      "name": "python"
    }
  },
  "cells": [
    {
      "cell_type": "markdown",
      "metadata": {
        "id": "view-in-github",
        "colab_type": "text"
      },
      "source": [
        "<a href=\"https://colab.research.google.com/github/GonzaloMA-17/k_brazos_FJLGM/blob/main/main.ipynb\" target=\"_parent\"><img src=\"https://colab.research.google.com/assets/colab-badge.svg\" alt=\"Open In Colab\"/></a>"
      ]
    },
    {
      "cell_type": "markdown",
      "source": [
        "# Notebook principal para la práctica 1: Bandido de k-brazos"
      ],
      "metadata": {
        "id": "YL35L-n_N9mF"
      }
    },
    {
      "cell_type": "markdown",
      "source": [
        "## Conexión al repositorio de gitHub en collab:"
      ],
      "metadata": {
        "id": "eg_xQLJCOQmE"
      }
    },
    {
      "cell_type": "code",
      "source": [
        "!git clone https://github.com/GonzaloMA-17/k_brazos_FJLGM.git"
      ],
      "metadata": {
        "colab": {
          "base_uri": "https://localhost:8080/"
        },
        "id": "MA9CE0wdd1FY",
        "outputId": "04aeb6fa-898b-4321-d269-40d1c47fd849"
      },
      "execution_count": 2,
      "outputs": [
        {
          "output_type": "stream",
          "name": "stdout",
          "text": [
            "Cloning into 'k_brazos_FJLGM'...\n",
            "remote: Enumerating objects: 44, done.\u001b[K\n",
            "remote: Counting objects: 100% (44/44), done.\u001b[K\n",
            "remote: Compressing objects: 100% (42/42), done.\u001b[K\n",
            "remote: Total 44 (delta 10), reused 15 (delta 0), pack-reused 0 (from 0)\u001b[K\n",
            "Receiving objects: 100% (44/44), 15.35 KiB | 7.68 MiB/s, done.\n",
            "Resolving deltas: 100% (10/10), done.\n"
          ]
        }
      ]
    },
    {
      "cell_type": "code",
      "source": [
        "!cd k_brazos_FJLGM"
      ],
      "metadata": {
        "id": "vX0KU91xfrwU"
      },
      "execution_count": 3,
      "outputs": []
    },
    {
      "cell_type": "markdown",
      "source": [
        "Código de prueba para Pushear:\n",
        "\n",
        "\n",
        "```\n",
        "!git add .\n",
        "!git config --global user.name \"GonzaloMA-17\"\n",
        "!git config --global user.email \"marcos.andres.gonzalo@gmail.com.com\"\n",
        "!git commit -m \"Añadidas nuevas carpetas y ficheros\"\n",
        "!git push origin main\n",
        "```\n",
        "\n"
      ],
      "metadata": {
        "id": "Y_TdU70AgACR"
      }
    },
    {
      "cell_type": "markdown",
      "source": [
        "## Librerías del entorno:\n"
      ],
      "metadata": {
        "id": "ZcaapxZ6Oc8v"
      }
    },
    {
      "cell_type": "code",
      "source": [
        "import sys\n",
        "sys.path.append('/content/k_brazos_FJLGM')\n",
        "\n",
        "print(sys.path)"
      ],
      "metadata": {
        "id": "u1g-hw0ugl9m",
        "outputId": "e13b590b-4f70-4dda-89f2-2cc57744bb56",
        "colab": {
          "base_uri": "https://localhost:8080/"
        }
      },
      "execution_count": 4,
      "outputs": [
        {
          "output_type": "stream",
          "name": "stdout",
          "text": [
            "['/content', '/env/python', '/usr/lib/python311.zip', '/usr/lib/python3.11', '/usr/lib/python3.11/lib-dynload', '', '/usr/local/lib/python3.11/dist-packages', '/usr/lib/python3/dist-packages', '/usr/local/lib/python3.11/dist-packages/IPython/extensions', '/root/.ipython', '/content/k_brazos_FJLGM']\n"
          ]
        }
      ]
    },
    {
      "cell_type": "code",
      "source": [
        "import numpy as np\n",
        "from typing import List\n",
        "from src_algorithms import *\n",
        "from src_plotting import *\n",
        "from src_arms import *"
      ],
      "metadata": {
        "id": "EHo_kwXLkYc5"
      },
      "execution_count": 6,
      "outputs": []
    },
    {
      "cell_type": "markdown",
      "source": [
        "### Enlaces a los notebooks de trabajo"
      ],
      "metadata": {
        "id": "xUsrfGlymxO1"
      }
    },
    {
      "cell_type": "code",
      "source": [],
      "metadata": {
        "id": "NXCUcXg1m03z"
      },
      "execution_count": null,
      "outputs": []
    }
  ]
}