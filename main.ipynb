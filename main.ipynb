{
  "cells": [
    {
      "cell_type": "markdown",
      "metadata": {
        "colab_type": "text",
        "id": "view-in-github"
      },
      "source": [
        "<a href=\"https://colab.research.google.com/github/GonzaloMA-17/k_brazos_FJLGM/blob/main/main.ipynb\" target=\"_parent\"><img src=\"https://colab.research.google.com/assets/colab-badge.svg\" alt=\"Open In Colab\"/></a>"
      ]
    },
    {
      "cell_type": "markdown",
      "metadata": {},
      "source": [
        "**Asignatura**: Extensiones de Machine Learning, 2024/2025\n",
        "\n",
        "**Alumnos**:<br>\n",
        "- Gonzalo Marcos Andrés (gonzalo.marcosa@um.es)\n",
        "- Francisco José López Fernández (franciscojose.lopezf@um.es)\n",
        "\n",
        "**Máster de Inteligencia Artificial**\n",
        "\n",
        "| **Facultad de Informática** | **Universidad de Murcia** |\n",
        "|-----------------------------|---------------------------|\n",
        "| ![](https://www.um.es/image/layout_set_logo?img_id=175281&t=1726728636242) | ![](https://www.um.es/o/um-lr-principal-um-home-theme/images/logo-um.png) |"
      ]
    },
    {
      "cell_type": "markdown",
      "metadata": {
        "id": "YL35L-n_N9mF"
      },
      "source": [
        "# Notebook principal para la práctica 1: Bandido de k-brazos"
      ]
    },
    {
      "cell_type": "markdown",
      "metadata": {
        "id": "eg_xQLJCOQmE"
      },
      "source": [
        "## Conexión al repositorio de gitHub en collab:"
      ]
    },
    {
      "cell_type": "code",
      "execution_count": 2,
      "metadata": {
        "colab": {
          "base_uri": "https://localhost:8080/"
        },
        "id": "MA9CE0wdd1FY",
        "outputId": "04aeb6fa-898b-4321-d269-40d1c47fd849"
      },
      "outputs": [
        {
          "name": "stdout",
          "output_type": "stream",
          "text": [
            "Cloning into 'k_brazos_FJLGM'...\n",
            "remote: Enumerating objects: 44, done.\u001b[K\n",
            "remote: Counting objects: 100% (44/44), done.\u001b[K\n",
            "remote: Compressing objects: 100% (42/42), done.\u001b[K\n",
            "remote: Total 44 (delta 10), reused 15 (delta 0), pack-reused 0 (from 0)\u001b[K\n",
            "Receiving objects: 100% (44/44), 15.35 KiB | 7.68 MiB/s, done.\n",
            "Resolving deltas: 100% (10/10), done.\n"
          ]
        }
      ],
      "source": [
        "!git clone https://github.com/GonzaloMA-17/k_brazos_FJLGM.git"
      ]
    },
    {
      "cell_type": "code",
      "execution_count": null,
      "metadata": {
        "colab": {
          "base_uri": "https://localhost:8080/"
        },
        "id": "vX0KU91xfrwU",
        "outputId": "62f51b92-f247-4c44-aa2f-93bfeafca284"
      },
      "outputs": [
        {
          "name": "stdout",
          "output_type": "stream",
          "text": [
            "/content/k_brazos_FJLGM\n"
          ]
        }
      ],
      "source": [
        "%cd k_brazos_FJLGM"
      ]
    },
    {
      "cell_type": "markdown",
      "metadata": {
        "id": "ZcaapxZ6Oc8v"
      },
      "source": [
        "## Librerías del entorno:\n"
      ]
    },
    {
      "cell_type": "code",
      "execution_count": 15,
      "metadata": {
        "colab": {
          "base_uri": "https://localhost:8080/"
        },
        "id": "tpfKvha2oy9A",
        "outputId": "944f52ad-97c3-4882-ad0b-fdf88da89f93"
      },
      "outputs": [
        {
          "name": "stdout",
          "output_type": "stream",
          "text": [
            "Collecting numpy~=2.2.2 (from -r requirements.txt (line 1))\n",
            "  Downloading numpy-2.2.3-cp311-cp311-manylinux_2_17_x86_64.manylinux2014_x86_64.whl.metadata (62 kB)\n",
            "\u001b[?25l     \u001b[90m━━━━━━━━━━━━━━━━━━━━━━━━━━━━━━━━━━━━━━━━\u001b[0m \u001b[32m0.0/62.0 kB\u001b[0m \u001b[31m?\u001b[0m eta \u001b[36m-:--:--\u001b[0m\r\u001b[2K     \u001b[90m━━━━━━━━━━━━━━━━━━━━━━━━━━━━━━━━━━━━━━━━\u001b[0m \u001b[32m62.0/62.0 kB\u001b[0m \u001b[31m2.7 MB/s\u001b[0m eta \u001b[36m0:00:00\u001b[0m\n",
            "\u001b[?25hRequirement already satisfied: seaborn~=0.13.2 in /usr/local/lib/python3.11/dist-packages (from -r requirements.txt (line 2)) (0.13.2)\n",
            "Requirement already satisfied: matplotlib~=3.10.0 in /usr/local/lib/python3.11/dist-packages (from -r requirements.txt (line 3)) (3.10.0)\n",
            "Requirement already satisfied: pandas>=1.2 in /usr/local/lib/python3.11/dist-packages (from seaborn~=0.13.2->-r requirements.txt (line 2)) (2.2.2)\n",
            "Requirement already satisfied: contourpy>=1.0.1 in /usr/local/lib/python3.11/dist-packages (from matplotlib~=3.10.0->-r requirements.txt (line 3)) (1.3.1)\n",
            "Requirement already satisfied: cycler>=0.10 in /usr/local/lib/python3.11/dist-packages (from matplotlib~=3.10.0->-r requirements.txt (line 3)) (0.12.1)\n",
            "Requirement already satisfied: fonttools>=4.22.0 in /usr/local/lib/python3.11/dist-packages (from matplotlib~=3.10.0->-r requirements.txt (line 3)) (4.56.0)\n",
            "Requirement already satisfied: kiwisolver>=1.3.1 in /usr/local/lib/python3.11/dist-packages (from matplotlib~=3.10.0->-r requirements.txt (line 3)) (1.4.8)\n",
            "Requirement already satisfied: packaging>=20.0 in /usr/local/lib/python3.11/dist-packages (from matplotlib~=3.10.0->-r requirements.txt (line 3)) (24.2)\n",
            "Requirement already satisfied: pillow>=8 in /usr/local/lib/python3.11/dist-packages (from matplotlib~=3.10.0->-r requirements.txt (line 3)) (11.1.0)\n",
            "Requirement already satisfied: pyparsing>=2.3.1 in /usr/local/lib/python3.11/dist-packages (from matplotlib~=3.10.0->-r requirements.txt (line 3)) (3.2.1)\n",
            "Requirement already satisfied: python-dateutil>=2.7 in /usr/local/lib/python3.11/dist-packages (from matplotlib~=3.10.0->-r requirements.txt (line 3)) (2.8.2)\n",
            "Requirement already satisfied: pytz>=2020.1 in /usr/local/lib/python3.11/dist-packages (from pandas>=1.2->seaborn~=0.13.2->-r requirements.txt (line 2)) (2025.1)\n",
            "Requirement already satisfied: tzdata>=2022.7 in /usr/local/lib/python3.11/dist-packages (from pandas>=1.2->seaborn~=0.13.2->-r requirements.txt (line 2)) (2025.1)\n",
            "Requirement already satisfied: six>=1.5 in /usr/local/lib/python3.11/dist-packages (from python-dateutil>=2.7->matplotlib~=3.10.0->-r requirements.txt (line 3)) (1.17.0)\n",
            "Downloading numpy-2.2.3-cp311-cp311-manylinux_2_17_x86_64.manylinux2014_x86_64.whl (16.4 MB)\n",
            "\u001b[2K   \u001b[90m━━━━━━━━━━━━━━━━━━━━━━━━━━━━━━━━━━━━━━━━\u001b[0m \u001b[32m16.4/16.4 MB\u001b[0m \u001b[31m39.8 MB/s\u001b[0m eta \u001b[36m0:00:00\u001b[0m\n",
            "\u001b[?25hInstalling collected packages: numpy\n",
            "  Attempting uninstall: numpy\n",
            "    Found existing installation: numpy 1.26.4\n",
            "    Uninstalling numpy-1.26.4:\n",
            "      Successfully uninstalled numpy-1.26.4\n",
            "\u001b[31mERROR: pip's dependency resolver does not currently take into account all the packages that are installed. This behaviour is the source of the following dependency conflicts.\n",
            "thinc 8.2.5 requires numpy<2.0.0,>=1.19.0; python_version >= \"3.9\", but you have numpy 2.2.3 which is incompatible.\n",
            "langchain 0.3.18 requires numpy<2,>=1.26.4; python_version < \"3.12\", but you have numpy 2.2.3 which is incompatible.\n",
            "numba 0.61.0 requires numpy<2.2,>=1.24, but you have numpy 2.2.3 which is incompatible.\n",
            "tensorflow 2.18.0 requires numpy<2.1.0,>=1.26.0, but you have numpy 2.2.3 which is incompatible.\n",
            "gensim 4.3.3 requires numpy<2.0,>=1.18.5, but you have numpy 2.2.3 which is incompatible.\n",
            "pytensor 2.27.1 requires numpy<2,>=1.17.0, but you have numpy 2.2.3 which is incompatible.\u001b[0m\u001b[31m\n",
            "\u001b[0mSuccessfully installed numpy-2.2.3\n"
          ]
        }
      ],
      "source": [
        "!pip install -r requirements.txt"
      ]
    },
    {
      "cell_type": "code",
      "execution_count": 16,
      "metadata": {
        "colab": {
          "base_uri": "https://localhost:8080/"
        },
        "id": "u1g-hw0ugl9m",
        "outputId": "671019bf-6c8c-4852-9f9a-80d6d5fa3051"
      },
      "outputs": [
        {
          "name": "stdout",
          "output_type": "stream",
          "text": [
            "['/content', '/env/python', '/usr/lib/python311.zip', '/usr/lib/python3.11', '/usr/lib/python3.11/lib-dynload', '', '/usr/local/lib/python3.11/dist-packages', '/usr/lib/python3/dist-packages', '/usr/local/lib/python3.11/dist-packages/IPython/extensions', '/root/.ipython', '/content/k_brazos_FJLGM', '/content/k_brazos_FJLGM']\n"
          ]
        }
      ],
      "source": [
        "import sys\n",
        "sys.path.append('/content/k_brazos_FJLGM')\n",
        "\n",
        "print(sys.path)"
      ]
    },
    {
      "cell_type": "code",
      "execution_count": 1,
      "metadata": {
        "id": "EHo_kwXLkYc5"
      },
      "outputs": [],
      "source": [
        "import numpy as np\n",
        "from typing import List\n",
        "from src_algorithms import *\n",
        "from src_plotting import *\n",
        "from src_arms import *"
      ]
    },
    {
      "cell_type": "markdown",
      "metadata": {
        "id": "xUsrfGlymxO1"
      },
      "source": [
        "### Enlaces a los notebooks de trabajo"
      ]
    },
    {
      "cell_type": "code",
      "execution_count": 4,
      "metadata": {
        "colab": {
          "base_uri": "https://localhost:8080/"
        },
        "id": "NXCUcXg1m03z",
        "outputId": "7c59a05d-6f75-40d9-c759-56ba71a52e9f"
      },
      "outputs": [
        {
          "name": "stdout",
          "output_type": "stream",
          "text": [
            "GitHub Link al notebook 0: https://github.com/GonzaloMA-17/k_brazos_FJLGM/blob/main/notebook1_e_greedy.ipynb\n",
            "GitHub Link al notebook 1: https://github.com/GonzaloMA-17/k_brazos_FJLGM/blob/main/notebook2_e_greedy.ipynb\n",
            "GitHub Link al notebook 2: https://github.com/GonzaloMA-17/k_brazos_FJLGM/blob/main/notebook3_ucb_bernoulli.ipynb\n",
            "GitHub Link al notebook 3: https://github.com/GonzaloMA-17/k_brazos_FJLGM/blob/main/notebook3_ucb_binomial.ipynb\n",
            "GitHub Link al notebook 4: https://github.com/GonzaloMA-17/k_brazos_FJLGM/blob/main/notebook3_ucb_gaussiana.ipynb\n",
            "GitHub Link al notebook 5: https://github.com/GonzaloMA-17/k_brazos_FJLGM/blob/main/notebook4_gradient_bernoulli.ipynb\n",
            "GitHub Link al notebook 6: https://github.com/GonzaloMA-17/k_brazos_FJLGM/blob/main/notebook4_gradient_binomial.ipynb\n",
            "GitHub Link al notebook 7: https://github.com/GonzaloMA-17/k_brazos_FJLGM/blob/main/notebook4_gradient_gaussiana.ipynb\n"
          ]
        }
      ],
      "source": [
        "# prompt: debo generar un enlace para abrir el notebook1.ipynb en collab\n",
        "\n",
        "# Assuming your notebook is in a public repository:\n",
        "github_repo_urls = [\"https://github.com/GonzaloMA-17/k_brazos_FJLGM/blob/main/notebook1_e_greedy.ipynb\",\n",
        "                    \"https://github.com/GonzaloMA-17/k_brazos_FJLGM/blob/main/notebook2_e_greedy.ipynb\",\n",
        "                    \"https://github.com/GonzaloMA-17/k_brazos_FJLGM/blob/main/notebook3_ucb_bernoulli.ipynb\",\n",
        "                    \"https://github.com/GonzaloMA-17/k_brazos_FJLGM/blob/main/notebook3_ucb_binomial.ipynb\",\n",
        "                    \"https://github.com/GonzaloMA-17/k_brazos_FJLGM/blob/main/notebook3_ucb_gaussiana.ipynb\",\n",
        "                    \"https://github.com/GonzaloMA-17/k_brazos_FJLGM/blob/main/notebook4_gradient_bernoulli.ipynb\",\n",
        "                    \"https://github.com/GonzaloMA-17/k_brazos_FJLGM/blob/main/notebook4_gradient_binomial.ipynb\",\n",
        "                    \"https://github.com/GonzaloMA-17/k_brazos_FJLGM/blob/main/notebook4_gradient_gaussiana.ipynb\"\n",
        "                    ]\n",
        "\n",
        "for i in range(len(github_repo_urls)):\n",
        "\n",
        "    print(f\"GitHub Link al notebook {i}: {github_repo_urls[i]}\")\n"
      ]
    }
  ],
  "metadata": {
    "colab": {
      "include_colab_link": true,
      "provenance": []
    },
    "kernelspec": {
      "display_name": ".venv",
      "language": "python",
      "name": "python3"
    },
    "language_info": {
      "codemirror_mode": {
        "name": "ipython",
        "version": 3
      },
      "file_extension": ".py",
      "mimetype": "text/x-python",
      "name": "python",
      "nbconvert_exporter": "python",
      "pygments_lexer": "ipython3",
      "version": "3.11.9"
    }
  },
  "nbformat": 4,
  "nbformat_minor": 0
}
